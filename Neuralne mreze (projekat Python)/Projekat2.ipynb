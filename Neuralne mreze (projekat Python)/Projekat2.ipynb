{
  "nbformat": 4,
  "nbformat_minor": 0,
  "metadata": {
    "colab": {
      "provenance": []
    },
    "kernelspec": {
      "name": "python3",
      "display_name": "Python 3"
    },
    "language_info": {
      "name": "python"
    }
  },
  "cells": [
    {
      "cell_type": "code",
      "execution_count": null,
      "metadata": {
        "colab": {
          "base_uri": "https://localhost:8080/"
        },
        "id": "Gp8aXlMNS0YA",
        "outputId": "e16e0d77-aba7-45b7-dfbb-9b900af123e2"
      },
      "outputs": [
        {
          "output_type": "stream",
          "name": "stdout",
          "text": [
            "Mounted at /content/drive\n"
          ]
        }
      ],
      "source": [
        "from google.colab import drive\n",
        "drive.mount('/content/drive')"
      ]
    },
    {
      "cell_type": "code",
      "source": [
        "import numpy as np\n",
        "import matplotlib.pyplot as plt\n",
        "import cv2\n",
        "main_path_trainval = './drive/MyDrive/Neuralne mreze/Ultimativni_folder/Train_set'\n",
        "main_path_test = './drive/MyDrive/Neuralne mreze/Ultimativni_folder/Test_set'\n",
        "img_size = (64, 64)\n",
        "batch_size = 64"
      ],
      "metadata": {
        "id": "tFa251YYTVPc"
      },
      "execution_count": null,
      "outputs": []
    },
    {
      "cell_type": "code",
      "source": [
        "import numpy as np\n",
        "import pandas as pd\n",
        "import os\n",
        "import seaborn as sns\n",
        "import matplotlib.pyplot as plt\n",
        "%matplotlib inline\n",
        "import cv2\n",
        "from sklearn.metrics import accuracy_score,precision_score,recall_score,confusion_matrix,roc_curve,roc_auc_score\n",
        "from sklearn.model_selection import train_test_split\n",
        "import tensorflow as tf\n",
        "from tensorflow import keras\n",
        "from keras import utils, callbacks\n",
        "from tensorflow.keras import utils\n",
        "from tensorflow.keras.models import Sequential\n",
        "from tensorflow.keras import layers, models\n",
        "from keras.layers import Flatten, Dense, Dropout\n",
        "from tensorflow.keras.optimizers import Adam\n",
        "from keras.losses import CategoricalCrossentropy\n",
        "import tensorflow as tf\n",
        "from tensorflow.keras.preprocessing.image import ImageDataGenerator\n",
        "from sklearn import metrics\n",
        "from tensorflow.keras.preprocessing import image\n",
        "from tensorflow.keras.preprocessing.image import load_img, img_to_array, array_to_img\n",
        "from tensorflow.keras.utils import to_categorical\n",
        "from sklearn.model_selection import train_test_split\n",
        "from glob import glob\n",
        "import sklearn"
      ],
      "metadata": {
        "id": "7aAr5-dyTdtb"
      },
      "execution_count": null,
      "outputs": []
    },
    {
      "cell_type": "code",
      "source": [
        "train_folder = './drive/MyDrive/Neuralne mreze/Ultimativni_folder/Train_set'\n",
        "test_folder = './drive/MyDrive/Neuralne mreze/Ultimativni_folder/Test_set'\n",
        "\n",
        "def load_images():\n",
        "    images = []\n",
        "    labels = []\n",
        "    index = -1\n",
        "    folders = sorted(os.listdir(train_folder))\n",
        "    \n",
        "    for folder in folders:\n",
        "        index += 1\n",
        "      \n",
        "        print(\"Loading images from folder \", folder ,\" has started.\")\n",
        "        for image in os.listdir(train_folder + '/' + folder):\n",
        "            img = cv2.imread(train_folder + '/' + folder + '/' + image, 0)\n",
        "            img = edge_detection(img)\n",
        "            img = cv2.resize(img, (64, 64))\n",
        "            img = img_to_array(img)\n",
        "            images.append(img)\n",
        "            labels.append(index)\n",
        "\n",
        "    images = np.array(images)\n",
        "    images = images.astype('float32')/255.0\n",
        "    labels = to_categorical(labels)\n",
        "\n",
        "    x_train, x_test, y_train, y_test = train_test_split(images, labels, test_size=0.1)\n",
        "\n",
        "    return x_train, x_test, y_train, y_test\n"
      ],
      "metadata": {
        "id": "G_ZLLmBfTkqb"
      },
      "execution_count": null,
      "outputs": []
    },
    {
      "cell_type": "code",
      "source": [
        "def load_images_t():\n",
        "    images = []\n",
        "    labels = []\n",
        "    index = -1\n",
        "    folders = sorted(os.listdir(test_folder))\n",
        "    \n",
        "    for folder in folders:\n",
        "        index += 1\n",
        "      \n",
        "        print(\"Loading images from folder \", folder ,\" has started.\")\n",
        "        for image in os.listdir(test_folder + '/' + folder):\n",
        "            img = cv2.imread(test_folder + '/' + folder + '/' + image, 0)\n",
        "            img = edge_detection(img)\n",
        "            img = cv2.resize(img, (64, 64))\n",
        "            img = img_to_array(img)\n",
        "            images.append(img)\n",
        "            labels.append(index)\n",
        "\n",
        "    images = np.array(images)\n",
        "    images = images.astype('float32')/255.0\n",
        "    x_t = images\n",
        "    labels = to_categorical(labels)\n",
        "    y_t = labels\n",
        "\n",
        "    #x_train, x_test, y_train, y_test = train_test_split(images, labels, test_size=0.1)\n",
        "\n",
        "    return x_t, y_t"
      ],
      "metadata": {
        "id": "1m3ewXnkb_IK"
      },
      "execution_count": null,
      "outputs": []
    },
    {
      "cell_type": "code",
      "source": [
        "def edge_detection(image):\n",
        "    minValue = 70\n",
        "    blur = cv2.GaussianBlur(image,(5,5),2)\n",
        "    th3 = cv2.adaptiveThreshold(blur,255,cv2.ADAPTIVE_THRESH_GAUSSIAN_C,cv2.THRESH_BINARY_INV,11,2)\n",
        "    ret, res = cv2.threshold(th3, minValue, 255, cv2.THRESH_BINARY_INV+cv2.THRESH_OTSU)\n",
        "    return res"
      ],
      "metadata": {
        "id": "2XHLAdH2Xc-N"
      },
      "execution_count": null,
      "outputs": []
    },
    {
      "cell_type": "code",
      "source": [
        "x_train, x_test, y_train, y_test = load_images()"
      ],
      "metadata": {
        "colab": {
          "base_uri": "https://localhost:8080/",
          "height": 304
        },
        "id": "wZmozI_tXkEk",
        "outputId": "bee281e1-19b9-4d7e-94e6-be53302e8586"
      },
      "execution_count": null,
      "outputs": [
        {
          "output_type": "error",
          "ename": "FileNotFoundError",
          "evalue": "ignored",
          "traceback": [
            "\u001b[0;31m---------------------------------------------------------------------------\u001b[0m",
            "\u001b[0;31mFileNotFoundError\u001b[0m                         Traceback (most recent call last)",
            "\u001b[0;32m<ipython-input-6-99d560f61f86>\u001b[0m in \u001b[0;36m<module>\u001b[0;34m\u001b[0m\n\u001b[0;32m----> 1\u001b[0;31m \u001b[0mx_train\u001b[0m\u001b[0;34m,\u001b[0m \u001b[0mx_test\u001b[0m\u001b[0;34m,\u001b[0m \u001b[0my_train\u001b[0m\u001b[0;34m,\u001b[0m \u001b[0my_test\u001b[0m \u001b[0;34m=\u001b[0m \u001b[0mload_images\u001b[0m\u001b[0;34m(\u001b[0m\u001b[0;34m)\u001b[0m\u001b[0;34m\u001b[0m\u001b[0;34m\u001b[0m\u001b[0m\n\u001b[0m",
            "\u001b[0;32m<ipython-input-2-f80ed14ca809>\u001b[0m in \u001b[0;36mload_images\u001b[0;34m()\u001b[0m\n\u001b[1;32m      6\u001b[0m     \u001b[0mlabels\u001b[0m \u001b[0;34m=\u001b[0m \u001b[0;34m[\u001b[0m\u001b[0;34m]\u001b[0m\u001b[0;34m\u001b[0m\u001b[0;34m\u001b[0m\u001b[0m\n\u001b[1;32m      7\u001b[0m     \u001b[0mindex\u001b[0m \u001b[0;34m=\u001b[0m \u001b[0;34m-\u001b[0m\u001b[0;36m1\u001b[0m\u001b[0;34m\u001b[0m\u001b[0;34m\u001b[0m\u001b[0m\n\u001b[0;32m----> 8\u001b[0;31m     \u001b[0mfolders\u001b[0m \u001b[0;34m=\u001b[0m \u001b[0msorted\u001b[0m\u001b[0;34m(\u001b[0m\u001b[0mos\u001b[0m\u001b[0;34m.\u001b[0m\u001b[0mlistdir\u001b[0m\u001b[0;34m(\u001b[0m\u001b[0mtrain_folder\u001b[0m\u001b[0;34m)\u001b[0m\u001b[0;34m)\u001b[0m\u001b[0;34m\u001b[0m\u001b[0;34m\u001b[0m\u001b[0m\n\u001b[0m\u001b[1;32m      9\u001b[0m \u001b[0;34m\u001b[0m\u001b[0m\n\u001b[1;32m     10\u001b[0m     \u001b[0;32mfor\u001b[0m \u001b[0mfolder\u001b[0m \u001b[0;32min\u001b[0m \u001b[0mfolders\u001b[0m\u001b[0;34m:\u001b[0m\u001b[0;34m\u001b[0m\u001b[0;34m\u001b[0m\u001b[0m\n",
            "\u001b[0;31mFileNotFoundError\u001b[0m: [Errno 2] No such file or directory: './drive/MyDrive/Neuralne mreze/Ultimativni_folder/Train_set'"
          ]
        }
      ]
    },
    {
      "cell_type": "code",
      "source": [
        "x_t, y_t = load_images_t()"
      ],
      "metadata": {
        "colab": {
          "base_uri": "https://localhost:8080/"
        },
        "id": "S7gQXzUocDFX",
        "outputId": "42f67e48-a049-4a9a-e67c-cc22d8689cf9"
      },
      "execution_count": null,
      "outputs": [
        {
          "output_type": "stream",
          "name": "stdout",
          "text": [
            "Loading images from folder  V  has started.\n",
            "Loading images from folder  W  has started.\n",
            "Loading images from folder  X  has started.\n",
            "Loading images from folder  Y  has started.\n",
            "Loading images from folder  Z  has started.\n"
          ]
        }
      ]
    },
    {
      "cell_type": "code",
      "source": [
        "from sklearn.utils import shuffle\n",
        "x_train, y_train = shuffle(x_train, y_train, random_state=13)\n",
        "x_test, y_test = shuffle(x_test, y_test, random_state=13)"
      ],
      "metadata": {
        "id": "dXcC-PYwXpMN"
      },
      "execution_count": null,
      "outputs": []
    },
    {
      "cell_type": "code",
      "source": [
        "alpha = [chr(c) for c in range(65,91)]\n",
        "un,count = np.unique(y_train,return_counts=True)\n",
        "j=1\n",
        "plt.figure(figsize=(20,20))\n",
        "t = np.zeros((64,64));\n",
        "for i in un:\n",
        "    plt.subplot(7,4,j)\n",
        "    t = x_train[np.where(y_train == np.array(i))[0][0]]\n",
        "    plt.imshow(t[:,:,0])\n",
        "    plt.axis('off')\n",
        "    j=j+1"
      ],
      "metadata": {
        "colab": {
          "base_uri": "https://localhost:8080/",
          "height": 163
        },
        "id": "Xy4_t6UIXuSG",
        "outputId": "29254bed-a754-40c5-b435-6ddb16b6b055"
      },
      "execution_count": null,
      "outputs": [
        {
          "output_type": "display_data",
          "data": {
            "text/plain": [
              "<Figure size 1440x1440 with 2 Axes>"
            ],
            "image/png": "[encoded data removed]"
          },
          "metadata": {
            "needs_background": "light"
          }
        }
      ]
    },
    {
      "cell_type": "code",
      "source": [
        "map_characters = { 1: 'V', 2: 'W', 3: 'X', 4: 'Y', 5: 'Z'}\n"
      ],
      "metadata": {
        "id": "a1jPZ5luYpdM"
      },
      "execution_count": null,
      "outputs": []
    },
    {
      "cell_type": "code",
      "source": [
        "model = Sequential([\n",
        "    layers.Conv2D(32, (3, 3), activation='relu', input_shape=(64, 64, 1)),\n",
        "    layers.MaxPool2D((2, 2)),\n",
        "    layers.Conv2D(64, (3, 3), activation='relu'),\n",
        "    layers.MaxPool2D((2, 2)),\n",
        "    layers.Conv2D(64, (3, 3), activation='relu'),\n",
        "    layers.MaxPool2D((2, 2)),\n",
        "    layers.Flatten(),\n",
        "    layers.Dense(128, activation='relu'),\n",
        "    layers.Dense(5, activation='softmax')\n",
        "])\n",
        "model.summary()"
      ],
      "metadata": {
        "colab": {
          "base_uri": "https://localhost:8080/"
        },
        "id": "w4cM4vR2ZFsJ",
        "outputId": "2c0dc00c-b2da-4ac8-af75-1bb7e49f27dc"
      },
      "execution_count": null,
      "outputs": [
        {
          "output_type": "stream",
          "name": "stdout",
          "text": [
            "Model: \"sequential_2\"\n",
            "_________________________________________________________________\n",
            " Layer (type)                Output Shape              Param #   \n",
            "=================================================================\n",
            " conv2d_6 (Conv2D)           (None, 62, 62, 32)        320       \n",
            "                                                                 \n",
            " max_pooling2d_6 (MaxPooling  (None, 31, 31, 32)       0         \n",
            " 2D)                                                             \n",
            "                                                                 \n",
            " conv2d_7 (Conv2D)           (None, 29, 29, 64)        18496     \n",
            "                                                                 \n",
            " max_pooling2d_7 (MaxPooling  (None, 14, 14, 64)       0         \n",
            " 2D)                                                             \n",
            "                                                                 \n",
            " conv2d_8 (Conv2D)           (None, 12, 12, 64)        36928     \n",
            "                                                                 \n",
            " max_pooling2d_8 (MaxPooling  (None, 6, 6, 64)         0         \n",
            " 2D)                                                             \n",
            "                                                                 \n",
            " flatten_2 (Flatten)         (None, 2304)              0         \n",
            "                                                                 \n",
            " dense_4 (Dense)             (None, 128)               295040    \n",
            "                                                                 \n",
            " dense_5 (Dense)             (None, 5)                 645       \n",
            "                                                                 \n",
            "=================================================================\n",
            "Total params: 351,429\n",
            "Trainable params: 351,429\n",
            "Non-trainable params: 0\n",
            "_________________________________________________________________\n"
          ]
        }
      ]
    },
    {
      "cell_type": "code",
      "source": [
        "classes = 5\n",
        "epochs = 10\n",
        "learning_rate = 0.0001\n",
        "\n",
        "adam = Adam(lr=learning_rate)\n",
        "model.compile(optimizer=adam, loss='categorical_crossentropy', metrics=['accuracy'])\n",
        "history = model.fit(x_train, y_train,\n",
        "                    epochs=epochs,\n",
        "                    verbose=1,\n",
        "                    validation_data=(x_test, y_test), shuffle=True)"
      ],
      "metadata": {
        "colab": {
          "base_uri": "https://localhost:8080/"
        },
        "id": "1ErlQ-InZI31",
        "outputId": "65dfef5e-838e-4a81-ec82-9641599dc2b9"
      },
      "execution_count": null,
      "outputs": [
        {
          "output_type": "stream",
          "name": "stderr",
          "text": [
            "WARNING:absl:`lr` is deprecated, please use `learning_rate` instead, or use the legacy optimizer, e.g.,tf.keras.optimizers.legacy.Adam.\n"
          ]
        },
        {
          "output_type": "stream",
          "name": "stdout",
          "text": [
            "Epoch 1/10\n",
            "71/71 [==============================] - 18s 231ms/step - loss: 1.3746 - accuracy: 0.3947 - val_loss: 0.8275 - val_accuracy: 0.6760\n",
            "Epoch 2/10\n",
            "71/71 [==============================] - 16s 230ms/step - loss: 0.4378 - accuracy: 0.8409 - val_loss: 0.1688 - val_accuracy: 0.9480\n",
            "Epoch 3/10\n",
            "71/71 [==============================] - 16s 231ms/step - loss: 0.0885 - accuracy: 0.9702 - val_loss: 0.0247 - val_accuracy: 0.9960\n",
            "Epoch 4/10\n",
            "71/71 [==============================] - 16s 227ms/step - loss: 0.0142 - accuracy: 0.9982 - val_loss: 0.0082 - val_accuracy: 1.0000\n",
            "Epoch 5/10\n",
            "71/71 [==============================] - 16s 221ms/step - loss: 0.0048 - accuracy: 0.9991 - val_loss: 0.0012 - val_accuracy: 1.0000\n",
            "Epoch 6/10\n",
            "71/71 [==============================] - 16s 223ms/step - loss: 0.0011 - accuracy: 1.0000 - val_loss: 7.6587e-04 - val_accuracy: 1.0000\n",
            "Epoch 7/10\n",
            "71/71 [==============================] - 16s 223ms/step - loss: 6.3166e-04 - accuracy: 1.0000 - val_loss: 4.8769e-04 - val_accuracy: 1.0000\n",
            "Epoch 8/10\n",
            "71/71 [==============================] - 16s 223ms/step - loss: 4.3384e-04 - accuracy: 1.0000 - val_loss: 3.8316e-04 - val_accuracy: 1.0000\n",
            "Epoch 9/10\n",
            "71/71 [==============================] - 15s 218ms/step - loss: 3.2471e-04 - accuracy: 1.0000 - val_loss: 3.3698e-04 - val_accuracy: 1.0000\n",
            "Epoch 10/10\n",
            "71/71 [==============================] - 15s 219ms/step - loss: 2.5426e-04 - accuracy: 1.0000 - val_loss: 2.2610e-04 - val_accuracy: 1.0000\n"
          ]
        }
      ]
    },
    {
      "cell_type": "code",
      "source": [
        "acc=history.history['accuracy']\n",
        "val_acc=history.history['val_accuracy']\n",
        "loss=history.history['loss']\n",
        "val_loss=history.history['val_loss']\n",
        "\n",
        "epochs=range(len(acc))\n",
        "\n",
        "fig = plt.figure(figsize=(14,7))\n",
        "plt.plot(epochs, acc, 'r', label=\"Training Accuracy\")\n",
        "plt.plot(epochs, val_acc, 'b', label=\"Validation Accuracy\")\n",
        "plt.xlabel('Epoch')\n",
        "plt.ylabel('Accuracy')\n",
        "plt.title('Training and validation accuracy')\n",
        "plt.legend(loc='lower right')\n",
        "plt.show()"
      ],
      "metadata": {
        "colab": {
          "base_uri": "https://localhost:8080/",
          "height": 458
        },
        "id": "Wui4-iZVZlr2",
        "outputId": "7c46f431-1971-4166-aee8-6ffe01b321fd"
      },
      "execution_count": null,
      "outputs": [
        {
          "output_type": "display_data",
          "data": {
            "text/plain": [
              "<Figure size 1008x504 with 1 Axes>"
            ],
            "image/png": "[encoded data removed]"
          },
          "metadata": {
            "needs_background": "light"
          }
        }
      ]
    },
    {
      "cell_type": "code",
      "source": [
        "fig = plt.figure(figsize=(14,7))\n",
        "plt.plot(epochs, loss, 'r', label=\"Training Loss\")\n",
        "plt.plot(epochs, val_loss, 'b', label=\"Validation Loss\")\n",
        "plt.legend(loc='upper right')\n",
        "plt.xlabel('Epoch')\n",
        "plt.ylabel('Loss')\n",
        "plt.title('Training and validation loss')"
      ],
      "metadata": {
        "colab": {
          "base_uri": "https://localhost:8080/",
          "height": 475
        },
        "id": "ym58PIzHZoTP",
        "outputId": "63633af3-e90f-4ac9-dc11-84430c713630"
      },
      "execution_count": null,
      "outputs": [
        {
          "output_type": "execute_result",
          "data": {
            "text/plain": [
              "Text(0.5, 1.0, 'Training and validation loss')"
            ]
          },
          "metadata": {},
          "execution_count": 34
        },
        {
          "output_type": "display_data",
          "data": {
            "text/plain": [
              "<Figure size 1008x504 with 1 Axes>"
            ],
            "image/png": "[encoded data removed]"
          },
          "metadata": {
            "needs_background": "light"
          }
        }
      ]
    },
    {
      "cell_type": "code",
      "source": [
        "class_labels = list(map_characters.values())"
      ],
      "metadata": {
        "id": "pwjJippKZva2"
      },
      "execution_count": null,
      "outputs": []
    },
    {
      "cell_type": "code",
      "source": [
        "score = model.evaluate(x_test,y_test, verbose=0)\n",
        "print('\\nKeras CNN - accuracy:', score[1], '\\n')\n",
        "\n",
        "y_pred = model.predict(x_test, verbose = 1)\n",
        "#print('\\n', sklearn.metrics.classification_report(np.where(y_test > 0)[1], np.argmax(y_pred, axis=1), target_names=list(labels.values())), sep='') \n",
        "Y_pred_classes = np.argmax(y_pred,axis = 1) \n",
        "Y_true = np.argmax(y_test,axis = 1) \n",
        "report = metrics.classification_report(Y_true, Y_pred_classes, target_names=class_labels)\n",
        "print(report)"
      ],
      "metadata": {
        "colab": {
          "base_uri": "https://localhost:8080/"
        },
        "id": "mPCgfh42Z1Xm",
        "outputId": "6513acf0-c8d8-45c4-b76c-5ab918ffe75b"
      },
      "execution_count": null,
      "outputs": [
        {
          "output_type": "stream",
          "name": "stdout",
          "text": [
            "\n",
            "Keras CNN - accuracy: 1.0 \n",
            "\n",
            "8/8 [==============================] - 0s 51ms/step\n",
            "              precision    recall  f1-score   support\n",
            "\n",
            "           V       1.00      1.00      1.00        49\n",
            "           W       1.00      1.00      1.00        50\n",
            "           X       1.00      1.00      1.00        38\n",
            "           Y       1.00      1.00      1.00        55\n",
            "           Z       1.00      1.00      1.00        58\n",
            "\n",
            "    accuracy                           1.00       250\n",
            "   macro avg       1.00      1.00      1.00       250\n",
            "weighted avg       1.00      1.00      1.00       250\n",
            "\n"
          ]
        }
      ]
    },
    {
      "cell_type": "code",
      "source": [
        "plt.figure(figsize=(5, 5))\n",
        "\n",
        "ax = sns.heatmap(metrics.confusion_matrix(Y_true,Y_pred_classes))\n",
        "ax.set_title('Confusion Matrix with labels')\n",
        "ax.set_xlabel('Predicted Values')\n",
        "ax.set_ylabel('Actual Values ')\n",
        "## Ticket labels - List must be in alphabetical order\n",
        "ax.xaxis.set_ticklabels(class_labels)\n",
        "ax.yaxis.set_ticklabels(class_labels)\n",
        "\n",
        "plt.show()"
      ],
      "metadata": {
        "colab": {
          "base_uri": "https://localhost:8080/",
          "height": 350
        },
        "id": "NxGcnLEHZ6Ws",
        "outputId": "074c23e6-3768-4054-f553-e987def787d3"
      },
      "execution_count": null,
      "outputs": [
        {
          "output_type": "display_data",
          "data": {
            "text/plain": [
              "<Figure size 360x360 with 2 Axes>"
            ],
            "image/png": "[encoded data removed]"
          },
          "metadata": {
            "needs_background": "light"
          }
        }
      ]
    },
    {
      "cell_type": "code",
      "source": [
        "confusion = metrics.confusion_matrix(Y_true,Y_pred_classes)\n",
        "#print('Confusion Matrix\\n')\n",
        "#print(confusion)"
      ],
      "metadata": {
        "id": "HAfqcTD-ah3P"
      },
      "execution_count": null,
      "outputs": []
    },
    {
      "cell_type": "code",
      "source": [
        "from keras.models import model_from_json\n",
        "json_model = model.to_json()\n",
        "\n",
        "with open('CNNThreshold.json', 'w') as json_file:\n",
        "    json_file.write(json_model)"
      ],
      "metadata": {
        "id": "u4P5AcxBaE9e"
      },
      "execution_count": null,
      "outputs": []
    },
    {
      "cell_type": "code",
      "source": [
        "plt.figure(figsize=(5, 5))\n",
        "sns.heatmap(confusion, cmap=\"plasma\", annot=True)"
      ],
      "metadata": {
        "colab": {
          "base_uri": "https://localhost:8080/",
          "height": 337
        },
        "id": "6lN4bFleaFrm",
        "outputId": "5248d4c6-1b5f-4aa3-a684-88d7a75cdf2f"
      },
      "execution_count": null,
      "outputs": [
        {
          "output_type": "execute_result",
          "data": {
            "text/plain": [
              "<matplotlib.axes._subplots.AxesSubplot at 0x7f0352b768e0>"
            ]
          },
          "metadata": {},
          "execution_count": 79
        },
        {
          "output_type": "display_data",
          "data": {
            "text/plain": [
              "<Figure size 360x360 with 2 Axes>"
            ],
            "image/png": "[encoded data removed]"
          },
          "metadata": {
            "needs_background": "light"
          }
        }
      ]
    },
    {
      "cell_type": "code",
      "source": [
        "score = model.evaluate(x_t,y_t, verbose=0)\n",
        "print('\\nKeras CNN - accuracy:', score[1], '\\n')\n",
        "\n",
        "y_pred = model.predict(x_test, verbose = 1)\n",
        "#print('\\n', sklearn.metrics.classification_report(np.where(y_test > 0)[1], np.argmax(y_pred, axis=1), target_names=list(labels.values())), sep='') \n",
        "Y_pred_classes = np.argmax(y_pred,axis = 1) \n",
        "Y_true = np.argmax(y_test,axis = 1) \n",
        "report = metrics.classification_report(Y_true, Y_pred_classes, target_names=class_labels)\n",
        "print(report)"
      ],
      "metadata": {
        "colab": {
          "base_uri": "https://localhost:8080/"
        },
        "id": "KHZeRnF0eTRs",
        "outputId": "43d81787-af68-4ada-9487-11fd16129dff"
      },
      "execution_count": null,
      "outputs": [
        {
          "output_type": "stream",
          "name": "stdout",
          "text": [
            "\n",
            "Keras CNN - accuracy: 0.7919999957084656 \n",
            "\n",
            "8/8 [==============================] - 0s 49ms/step\n",
            "              precision    recall  f1-score   support\n",
            "\n",
            "           V       1.00      1.00      1.00        49\n",
            "           W       1.00      1.00      1.00        50\n",
            "           X       1.00      1.00      1.00        38\n",
            "           Y       1.00      1.00      1.00        55\n",
            "           Z       1.00      1.00      1.00        58\n",
            "\n",
            "    accuracy                           1.00       250\n",
            "   macro avg       1.00      1.00      1.00       250\n",
            "weighted avg       1.00      1.00      1.00       250\n",
            "\n"
          ]
        }
      ]
    },
    {
      "cell_type": "code",
      "source": [
        "plt.figure(figsize=(5, 5))\n",
        "\n",
        "ax = sns.heatmap(metrics.confusion_matrix(Y_true,Y_pred_classes))\n",
        "ax.set_title('Confusion Matrix with labels')\n",
        "ax.set_xlabel('Predicted Values')\n",
        "ax.set_ylabel('Actual Values ')\n",
        "## Ticket labels - List must be in alphabetical order\n",
        "ax.xaxis.set_ticklabels(class_labels)\n",
        "ax.yaxis.set_ticklabels(class_labels)\n",
        "\n",
        "plt.show()"
      ],
      "metadata": {
        "colab": {
          "base_uri": "https://localhost:8080/",
          "height": 350
        },
        "id": "t-CzT7F7eeaM",
        "outputId": "cb403f97-3697-4d30-f191-3066b12b95d2"
      },
      "execution_count": null,
      "outputs": [
        {
          "output_type": "display_data",
          "data": {
            "text/plain": [
              "<Figure size 360x360 with 2 Axes>"
            ],
            "image/png": "[encoded data removed]"
          },
          "metadata": {
            "needs_background": "light"
          }
        }
      ]
    },
    {
      "cell_type": "code",
      "source": [
        "confusion = metrics.confusion_matrix(Y_true,Y_pred_classes)\n",
        "from keras.models import model_from_json\n",
        "json_model = model.to_json()\n",
        "\n",
        "with open('CNNThreshold.json', 'w') as json_file:\n",
        "    json_file.write(json_model)\n",
        "    plt.figure(figsize=(5, 5))\n",
        "\n",
        "sns.heatmap(confusion, cmap=\"plasma\", annot=True)"
      ],
      "metadata": {
        "colab": {
          "base_uri": "https://localhost:8080/",
          "height": 337
        },
        "id": "QIcdUpRnefLi",
        "outputId": "7a0057cc-b9e2-494c-e71c-fe9af45b26ed"
      },
      "execution_count": null,
      "outputs": [
        {
          "output_type": "execute_result",
          "data": {
            "text/plain": [
              "<matplotlib.axes._subplots.AxesSubplot at 0x7f0352a44bb0>"
            ]
          },
          "metadata": {},
          "execution_count": 83
        },
        {
          "output_type": "display_data",
          "data": {
            "text/plain": [
              "<Figure size 360x360 with 2 Axes>"
            ],
            "image/png": "[encoded data removed]"
          },
          "metadata": {
            "needs_background": "light"
          }
        }
      ]
    }
  ]
}